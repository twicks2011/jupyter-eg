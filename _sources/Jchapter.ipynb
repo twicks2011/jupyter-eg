{
 "cells": [
  {
   "attachments": {},
   "cell_type": "markdown",
   "id": "254a9ebd",
   "metadata": {},
   "source": [
    "# Introduction to Jupyter Books\n",
    "\n",
    "This short tutorial will show you how to install Jupyter Books and how to create and run a simple book. There are far too many features to cover, so this just gives you a few pointers to the important ones."
   ]
  },
  {
   "attachments": {},
   "cell_type": "markdown",
   "id": "11f13d91",
   "metadata": {},
   "source": [
    "```{tableofcontents}\n",
    "```"
   ]
  }
 ],
 "metadata": {
  "kernelspec": {
   "display_name": "Python 3 (ipykernel)",
   "language": "python",
   "name": "python3"
  },
  "language_info": {
   "codemirror_mode": {
    "name": "ipython",
    "version": 3
   },
   "file_extension": ".py",
   "mimetype": "text/x-python",
   "name": "python",
   "nbconvert_exporter": "python",
   "pygments_lexer": "ipython3",
   "version": "3.10.8"
  }
 },
 "nbformat": 4,
 "nbformat_minor": 5
}
