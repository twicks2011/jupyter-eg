{
 "cells": [
  {
   "attachments": {},
   "cell_type": "markdown",
   "id": "254a9ebd",
   "metadata": {},
   "source": [
    "# Simple Jupyter Notebook Use\n",
    "\n",
    "In order to create a Jupyter Book, we should first create some Jupyter Notebooks. If you have familiarity with Jupyter Notebooks, then you can safely skip this section and move to the next one.\n",
    "\n",
    "## The Notebook interface\n",
    "\n",
    "A Jupyter Notebook can either be opened (in a web browser) from Anaconda Navigator, or directly through a terminal/Anaconda prompt using the command:\n",
    "\n",
    "> jupyter notebook name_of_file.ipynb\n",
    "\n",
    "```{tip}\n",
    "You can also use your preferred IDE that supports `.ipynb` and `.md` files.\n",
    "```\n",
    "\n",
    "The web interface will look something like this:\n",
    "\n",
    "```{figure} ./Figures/interface.png\n",
    "---\n",
    "alt: Jupyter Notebook web interface\n",
    "height: 150px\n",
    "---\n",
    "```\n",
    "\n",
    "Hopefully it is fairly straightforward to see what all the controls do and there are some keyboard shortcuts as well.\n",
    "\n",
    "\n",
    "There are essentially two components to a Jupyter Notebook:\n",
    "\n",
    "* Markdown blocks - where the majority of test is written.\n",
    "* Code blocks - where code that written and executed.\n",
    "\n",
    "New blocks can be added with the `+` button and the type of block selected using the drop down under `Markdown`.\n",
    "\n",
    "## Markdown blocks\n",
    "\n",
    "A markdown block has pretty much the same functionality as one in RMarkdown.\n",
    "\n",
    "To add a title/subtitle/etc in a block, use `#`, `##`, etc, followed by a name, for example, above we have `# Simple Notebook Use` and `## Markdown blocks`. Later we will see how to create a link back to a section in the same/different file.\n",
    "\n",
    "A line break can be created using `---`:\n",
    "\n",
    "---\n",
    "\n",
    "* Text can be made bold by using this syntax: `**this text is bold**`: **this text is bold**\n",
    "* Text can be put in italics by using this syntax: `*this text is in italics*`: *this text is in italics*\n",
    "\n",
    "---\n",
    "\n",
    "Lists without numbers can be created with repeated use of `*` (or `-` or `+`), see the example below\n",
    "\n",
    "* First item\n",
    "* Second item\n",
    "    * subitem\n",
    "        * subsubitem\n",
    "* third item\n",
    "\n",
    "Enumerated lists can be created using `1.`, `2.`, etc:\n",
    "\n",
    "1. First item\n",
    "2. Second item\n",
    "3. subitem\n",
    "\n",
    "or even by just repeating `1.`\n",
    "\n",
    "1. First item\n",
    "1. Second item\n",
    "1. third item\n",
    "\n",
    "Starting the numbering from another value is also possible:\n",
    "\n",
    "20. First item\n",
    "1. Second item\n",
    "1. third item\n",
    "\n",
    "---\n",
    "\n",
    "If you wish to write some Python inline (and for it not to be executed), put the code within backticks `a+b`. This is also useful for writing things *verbatim*.\n",
    "\n",
    "To make something appear in a grey box, use `>` or just indent with a tab:\n",
    "\n",
    "> Here is a quote.\n",
    "\n",
    "    Here is another quote.\n"
   ]
  },
  {
   "attachments": {},
   "cell_type": "markdown",
   "id": "69ff2071",
   "metadata": {},
   "source": [
    "## Code blocks\n",
    "\n",
    "A code block can be used to enter and run Python code (or R or Julia). If the final line produces just some output this is printed to the screen"
   ]
  },
  {
   "cell_type": "code",
   "execution_count": 3,
   "id": "f3a92f58",
   "metadata": {},
   "outputs": [
    {
     "data": {
      "text/plain": [
       "4"
      ]
     },
     "execution_count": 3,
     "metadata": {},
     "output_type": "execute_result"
    }
   ],
   "source": [
    "1+1\n",
    "2+2"
   ]
  },
  {
   "attachments": {},
   "cell_type": "markdown",
   "id": "464995b3",
   "metadata": {},
   "source": [
    "If the final line creates a variable, then this is not printed to the screen. The `print()` command can be used instead. Note, variables can be used elsewhere in the Notebook once the code block they are in has been run."
   ]
  },
  {
   "cell_type": "code",
   "execution_count": 5,
   "id": "3216fcf0",
   "metadata": {},
   "outputs": [],
   "source": [
    "a = 10\n",
    "print(a)"
   ]
  },
  {
   "attachments": {},
   "cell_type": "markdown",
   "id": "89d68206",
   "metadata": {},
   "source": [
    "Functions can be defined and used as well"
   ]
  },
  {
   "cell_type": "code",
   "execution_count": 6,
   "id": "5ad545dc",
   "metadata": {},
   "outputs": [
    {
     "data": {
      "text/plain": [
       "10"
      ]
     },
     "execution_count": 6,
     "metadata": {},
     "output_type": "execute_result"
    }
   ],
   "source": [
    "def add_two(x):\n",
    "    return(x+2)\n",
    "\n",
    "add_two(8)"
   ]
  },
  {
   "attachments": {},
   "cell_type": "markdown",
   "id": "0d02ca93",
   "metadata": {},
   "source": [
    "Modules can also be imported and used"
   ]
  },
  {
   "cell_type": "code",
   "execution_count": 8,
   "id": "435a8534",
   "metadata": {},
   "outputs": [
    {
     "data": {
      "text/plain": [
       "array([[1, 2, 3],\n",
       "       [2, 3, 4]])"
      ]
     },
     "execution_count": 8,
     "metadata": {},
     "output_type": "execute_result"
    }
   ],
   "source": [
    "import numpy as np\n",
    "np.array([[1,2,3],[2,3,4]])"
   ]
  },
  {
   "attachments": {},
   "cell_type": "markdown",
   "id": "449678cf",
   "metadata": {},
   "source": [
    "Note, a simple way to inspect the variables in a Jupyter Notebook is to type `%whos` in a  code block"
   ]
  },
  {
   "cell_type": "code",
   "execution_count": 9,
   "id": "4a0fed22",
   "metadata": {},
   "outputs": [
    {
     "name": "stdout",
     "output_type": "stream",
     "text": [
      "Variable   Type        Data/Info\n",
      "--------------------------------\n",
      "a          int         10\n",
      "add_two    function    <function add_two at 0x7fbdf275f370>\n",
      "np         module      <module 'numpy' from '/Us<...>kages/numpy/__init__.py'>\n"
     ]
    }
   ],
   "source": [
    "%whos"
   ]
  }
 ],
 "metadata": {
  "kernelspec": {
   "display_name": "Python 3 (ipykernel)",
   "language": "python",
   "name": "python3"
  },
  "language_info": {
   "codemirror_mode": {
    "name": "ipython",
    "version": 3
   },
   "file_extension": ".py",
   "mimetype": "text/x-python",
   "name": "python",
   "nbconvert_exporter": "python",
   "pygments_lexer": "ipython3",
   "version": "3.10.8"
  }
 },
 "nbformat": 4,
 "nbformat_minor": 5
}
