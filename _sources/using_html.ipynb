{
 "cells": [
  {
   "attachments": {},
   "cell_type": "markdown",
   "id": "ff111bb0",
   "metadata": {},
   "source": [
    "# Use of regular HTML\n",
    "\n",
    "It is possible to use standard HTML commands within the Notebook. In many cases this is discouraged, as it is unlikely Markdown/MyST commands will work within these environments.\n",
    "\n",
    "## Embedding webpages\n",
    "\n",
    "The `<iframe> </iframe>` block can be used to embed webpages. Note, it seems non-trivial to make sure that the size of the frames scale properly.\n",
    "\n",
    "For example, we can embed some dynamic Desmos:\n",
    "<iframe scrolling=\"no\" src=\"https://www.desmos.com/calculator/gvtteacngh?embed\" width=\"500\" height=\"500\" style=\"border: 1px solid #ccc\" frameborder=0></iframe>\n",
    "\n",
    "or some Geogebra:\n",
    "\n",
    "<iframe scrolling=\"no\" title=\"Bisection Algorithm\" src=\"https://www.geogebra.org/material/iframe/id/dwyt7xxx/width/1120/height/463/border/888888/sfsb/true/smb/false/stb/false/stbh/false/ai/false/asb/false/sri/false/rc/false/ld/false/sdz/false/ctl/false\" width=\"500\" height=\"500\" style=\"border:0px;\"> </iframe>"
   ]
  },
  {
   "attachments": {},
   "cell_type": "markdown",
   "id": "1897daa2",
   "metadata": {},
   "source": [
    "## Other elements\n",
    "\n",
    "Other HTML elements, such as `<div>`, `<span>` and so on can also be used. For example, we can pick up the theorem style environment from the template CSS file.\n",
    "\n",
    "<div class=\"theorem\">\n",
    "This is the theorem style (without the title).\n",
    "</div>\n",
    "\n",
    "However, if we try some Markdown within the `<div>`, it fails.\n",
    "\n",
    "<div class=\"theorem\">\n",
    "```{note}\n",
    "A note does not work\n",
    "```\n",
    "</div>"
   ]
  }
 ],
 "metadata": {
  "celltoolbar": "Edit Metadata",
  "kernelspec": {
   "display_name": "Python 3 (ipykernel)",
   "language": "python",
   "name": "python3"
  },
  "language_info": {
   "codemirror_mode": {
    "name": "ipython",
    "version": 3
   },
   "file_extension": ".py",
   "mimetype": "text/x-python",
   "name": "python",
   "nbconvert_exporter": "python",
   "pygments_lexer": "ipython3",
   "version": "3.9.15"
  }
 },
 "nbformat": 4,
 "nbformat_minor": 5
}
