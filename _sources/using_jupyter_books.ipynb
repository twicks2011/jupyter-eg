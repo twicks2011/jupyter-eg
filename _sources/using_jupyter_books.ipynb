{
 "cells": [
  {
   "cell_type": "markdown",
   "metadata": {},
   "source": [
    "# Using Jupyter Books\n",
    "\n",
    "## Buttons in the webpage\n",
    "\n",
    "After opening the book in a web broswer, you will see a number of buttons along the top of the window:\n",
    "\n",
    "```{figure} ./Figures/buttons.png\n",
    "---\n",
    "alt: Jupyter buttons\n",
    "height: 50px\n",
    "name: buttons\n",
    "---\n",
    "```\n",
    "\n",
    "* <i class=\"fa-solid fa-magnifying-glass\"></i> allows users to search the whole of the book, which is extremely useful.\n",
    "* <i class=\"fa-solid fa-sun\"></i>/<i class=\"fa-solid fa-moon\"></i> allows users to switch from light to dark mode.\n",
    "* <i class=\"fas fa-expand\"></i>  shows the book in full-screen mode.\n",
    "* <i class=\"fas fa-download\"></i> allows the source `.md` or `.ipynb` to be downloaded, or a PDF version of the page.\n",
    "* <i class=\"fas fa-rocket\"></i> allows code written in the book to be run. There are two options:\n",
    "    - Through Colab as a Jupyter Notebook.\n",
    "    - Directly in the webpage using 'Live Code', although this can be quite slow in loading the kernel.\n",
    "\n",
    "## Referencing other sections/pages in the JupyterBook\n",
    "\n",
    "There are a number of ways of referencing sections in other pages of the book. One simple option is to provide a label to a heading, using the syntax\n",
    "\n",
    "\t(label_name)=\n",
    "\n",
    "before the heading name. As an example, in an earlier page, we defined\n",
    "\n",
    "\t(compilation)=\n",
    "\t## Compiling a Book\n",
    "\n",
    "```{note}\n",
    "The above has to be on two separate lines.\n",
    "```\n",
    "\n",
    "We can then reference back to that section using the syntax: ``{ref}`label_name` ``. \n",
    "\n",
    "As an example, to learn more about compiling a Jupyter book, go to {ref}`compilation`.\n",
    "\n",
    "The `{ref}` and `{numref}` directives can be used to reference various other items, as we shall see later.\n",
    "\n",
    "## Referencing external webpages\n",
    "\n",
    "This can be done using the syntax `[link_name](url)`.\n",
    "\n",
    "For example, [this is a link to the Jupyter Books webpage](https://jupyterbook.org/en/stable/intro.html).\n",
    "\n",
    "```{note}\n",
    "It seems that these links open in the same page by default, but regular HTML could be used to force it to open in another page.\n",
    "```\n",
    "\n",
    "## Controlling what is shown in the final book\n",
    "\n",
    "**Tags** can be added to control whether cells appear in the final book. These are stored in a JSON format in the cell metadata.\n",
    "\n",
    "In the Jupyter Notebook window, cell metadata can be shown by clicking as follows:\n",
    "\n",
    "```{image} ./Figures/metadata.png\n",
    ":width: 400px\n",
    ":align: center\n",
    "```\n",
    "\n",
    "This bring up the `Edit Metadata` button in the top right of a cell and tags can be added with the following syntax:\n",
    "\n",
    "\t{\n",
    "  \t  \"tags\": [\n",
    "        \"tag_name\"\n",
    "  \t  ],\n",
    "\t}\n",
    "\n",
    "```{note}\n",
    "If you are using a different IDE to edit your Notebook, the procedure might be slightly different.\n",
    "```\n",
    "\n",
    "Some useful tags are:\n",
    "\n",
    "* *hide-cell* - The code cell is hidden in the book, but can be shown using a drop-down\n",
    "* *remove-cell* - The cell is completely hidden in the book\n",
    "* *hide-input/output* - For code cells, the inputs/outputs are hidden, but can be viewed with drop-downs\n",
    "* *remove-input/output* - For code cells, the inputs/outputs are completely removed from the book\n",
    "\n",
    "As an example, the following has the input hidden in the book."
   ]
  },
  {
   "cell_type": "code",
   "execution_count": 1,
   "metadata": {
    "tags": [
     "hide-input"
    ]
   },
   "outputs": [
    {
     "data": {
      "image/png": "[encoded data removed]",
      "text/plain": [
       "<Figure size 640x480 with 1 Axes>"
      ]
     },
     "metadata": {},
     "output_type": "display_data"
    }
   ],
   "source": [
    "import numpy as np\n",
    "import matplotlib.pyplot as plt\n",
    "\n",
    "x = np.linspace(0,10,100)\n",
    "y = x**2\n",
    "lines = plt.plot(x,y)"
   ]
  },
  {
   "cell_type": "markdown",
   "metadata": {
    "tags": []
   },
   "source": [
    "For markdown, the `toggle` directive can be used to hide content in a markdown cell.\n",
    "\n",
    "```{toggle}\n",
    "The next markdwon cell is completely removed in the final book.\n",
    "```"
   ]
  },
  {
   "cell_type": "markdown",
   "metadata": {
    "tags": [
     "remove-cell"
    ]
   },
   "source": [
    "This is a markdown cell that is completely removed from the final book."
   ]
  }
 ],
 "metadata": {
  "celltoolbar": "Edit Metadata",
  "kernelspec": {
   "display_name": "Python 3",
   "language": "python",
   "name": "python3"
  },
  "language_info": {
   "codemirror_mode": {
    "name": "ipython",
    "version": 3
   },
   "file_extension": ".py",
   "mimetype": "text/x-python",
   "name": "python",
   "nbconvert_exporter": "python",
   "pygments_lexer": "ipython3",
   "version": "3.8.3"
  }
 },
 "nbformat": 4,
 "nbformat_minor": 5
}
